{
  "nbformat": 4,
  "nbformat_minor": 0,
  "metadata": {
    "colab": {
      "provenance": []
    },
    "kernelspec": {
      "name": "python3",
      "display_name": "Python 3"
    },
    "language_info": {
      "name": "python"
    }
  },
  "cells": [
    {
      "cell_type": "code",
      "execution_count": 117,
      "metadata": {
        "colab": {
          "base_uri": "https://localhost:8080/"
        },
        "id": "7L_OuHjonD_w",
        "outputId": "6a5fe61e-27b9-4224-b0df-475569cdbbfe"
      },
      "outputs": [
        {
          "output_type": "stream",
          "name": "stdout",
          "text": [
            "Drive already mounted at /content/drive; to attempt to forcibly remount, call drive.mount(\"/content/drive\", force_remount=True).\n"
          ]
        }
      ],
      "source": [
        "# Montar Google Drive\n",
        "from google.colab import drive\n",
        "drive.mount('/content/drive')"
      ]
    },
    {
      "cell_type": "code",
      "source": [
        "import os\n",
        "import re\n",
        "import pandas as pd\n",
        "\n",
        "# Ruta de la carpeta que contiene los archivos de texto de las facturas\n",
        "ruta_carpeta = \"/content/drive/MyDrive/Texto de Facturas\"\n",
        "\n",
        "# Lista para almacenar los diccionarios de facturas\n",
        "facturas = []\n",
        "\n",
        "# Iterar sobre los archivos en la carpeta\n",
        "for nombre_archivo in os.listdir(ruta_carpeta):\n",
        "    # Construir la ruta completa del archivo\n",
        "    ruta_archivo = os.path.join(ruta_carpeta, nombre_archivo)\n",
        "\n",
        "    # Leer el contenido del archivo\n",
        "    with open(ruta_archivo, 'r', encoding='utf-8') as archivo:\n",
        "        texto_factura = archivo.read()\n",
        "\n",
        "    # Expresiones regulares para extraer datos\n",
        "    numero_factura_match = re.search(r'Numero factura: N°\\s*(\\d+)', texto_factura)\n",
        "    fecha_emision_match = re.search(r'Fecha Emision:\\s*(.+)', texto_factura)\n",
        "    senores_match = re.search(r'SEÑOR\\(ES\\):\\s*(.+)', texto_factura)\n",
        "\n",
        "    # Intentar ambas expresiones regulares para extraer el RUT\n",
        "    rut_match1 = re.search(r'R\\.U\\.T\\.: \\s*(\\d{1,2}\\.\\d{3}\\.\\d{3}-?\\s?\\d{1,2})', texto_factura)\n",
        "    rut_match2 = re.search(r'R\\.U\\.T\\.: \\s*(\\d{1,2}\\.\\d{3}\\.\\d{3}-\\s?[Kk\\d]{1,2})', texto_factura)\n",
        "    rut_match = rut_match1 if rut_match1 else rut_match2\n",
        "\n",
        "    descripcion_match = re.search(r'Descripcion:\\s*(.+?)TOTAL:', texto_factura, re.DOTALL)\n",
        "    total_match = re.search(r'TOTAL: \\$\\s*([\\d,.]+)', texto_factura)\n",
        "\n",
        "    # Verificar si se encontraron coincidencias y extraer datos\n",
        "    if all(match is not None for match in [numero_factura_match, fecha_emision_match, senores_match, rut_match, descripcion_match, total_match]):\n",
        "        numero_factura = numero_factura_match.group(1)\n",
        "        fecha_emision = fecha_emision_match.group(1)\n",
        "        senores = senores_match.group(1)\n",
        "        rut = rut_match.group(1).replace(\".\", \"\").replace(\" \", \"\")  # Eliminar puntos y espacios en el RUT\n",
        "        descripcion = descripcion_match.group(1).strip()\n",
        "        total = float(total_match.group(1).replace('.', '').replace(',', ''))  # Eliminar puntos y coma del total\n",
        "\n",
        "        # Crear un diccionario con los datos\n",
        "        datos_factura = {\n",
        "            \"Numero Factura\": int(numero_factura),  # Convertir a entero para facilitar la ordenación\n",
        "            \"Fecha Emision\": fecha_emision,\n",
        "            \"Señor(es)\": senores,\n",
        "            \"RUT\": rut,\n",
        "            \"Descripcion\": descripcion,\n",
        "            \"Total\": total\n",
        "        }\n",
        "\n",
        "        # Agregar el diccionario a la lista\n",
        "        facturas.append(datos_factura)\n",
        "\n",
        "# Crear un DataFrame de pandas\n",
        "df_facturas = pd.DataFrame(facturas)\n",
        "\n",
        "# Ordenar el DataFrame por el número de factura\n",
        "df_facturas.sort_values(by='Numero Factura', inplace=True)\n",
        "\n",
        "# Guardar el DataFrame en un archivo Excel\n",
        "df_facturas.to_excel('/content/drive/MyDrive/facturas.xlsx', index=False)\n",
        "\n",
        "# Imprimir los datos de las facturas\n",
        "print(df_facturas)"
      ],
      "metadata": {
        "colab": {
          "base_uri": "https://localhost:8080/"
        },
        "id": "zAfyKeTfovqp",
        "outputId": "010e09a3-b5b5-4bd4-9476-a4b1bb25e993"
      },
      "execution_count": 118,
      "outputs": [
        {
          "output_type": "stream",
          "name": "stdout",
          "text": [
            "     Numero Factura             Fecha Emision  \\\n",
            "8                 1    25 de Octubre del 2016   \n",
            "215               3  15 de Noviembre del 2016   \n",
            "202               4  07 de Diciembre del 2016   \n",
            "207               5  20 de Diciembre del 2016   \n",
            "191               6  23 de Diciembre del 2016   \n",
            "..              ...                       ...   \n",
            "223             277  30 de Noviembre del 2023   \n",
            "101             278  15 de Diciembre del 2023   \n",
            "224             279  21 de Diciembre del 2023   \n",
            "222             280  29 de Diciembre del 2023   \n",
            "236             281      18 de Enero del 2024   \n",
            "\n",
            "                                          Señor(es)         RUT  \\\n",
            "8            CORP ADMINISTRATIVA DEL PODER JUDICIAL  60301001-9   \n",
            "215          CORP ADMINISTRATIVA DEL PODER JUDICIAL  60301001-9   \n",
            "202          CORP ADMINISTRATIVA DEL PODER JUDICIAL  60301001-9   \n",
            "207          CORP ADMINISTRATIVA DEL PODER JUDICIAL  60301001-9   \n",
            "191          CORP ADMINISTRATIVA DEL PODER JUDICIAL  60301001-9   \n",
            "..                                              ...         ...   \n",
            "223  INSTITUTO NACIONAL DE CAPACITACION PROFESIONAL  60711000-K   \n",
            "101          CORP ADMINISTRATIVA DEL PODER JUDICIAL  60301001-9   \n",
            "224                              MINISTERIO PUBLICO  61935400-1   \n",
            "222                              MINISTERIO PUBLICO  61935400-1   \n",
            "236                       I MUNICIPALIDAD DE OLIVAR  69081400-5   \n",
            "\n",
            "                                           Descripcion       Total  \n",
            "8    obras menores \\nservicio mejoramiento de las c...   7659261.0  \n",
            "215  OBRA MENOR RETIRO E INSTALACION TECHUMBRE TRIB...   2898840.0  \n",
            "202  obras menores Reparacion de vivienda judicial ...   8363222.0  \n",
            "207  obras menores servicio de reparacion de vivien...  10709274.0  \n",
            "191  obras menores fabricacion y montaje de muebles...   2891700.0  \n",
            "..                                                 ...         ...  \n",
            "223  Obras\\nservisio de mantencion y cambio de quic...    535500.0  \n",
            "101  Obras\\nHabilitacion Oficina Juez TOP San Ferna...   5474524.0  \n",
            "224  obras\\nReparaciones e instalaciones varias.\\nP...   1542240.0  \n",
            "222  obras\\nRemodelacion Area De Atencion de Public...  50134462.0  \n",
            "236  OBRAS\\nHabilitacion box dental y otras depende...  15038605.0  \n",
            "\n",
            "[237 rows x 6 columns]\n"
          ]
        }
      ]
    }
  ]
}